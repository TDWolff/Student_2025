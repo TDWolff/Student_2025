{
 "cells": [
  {
   "cell_type": "markdown",
   "metadata": {},
   "source": [
    "---\n",
    "layout: post\n",
    "title: CSA Hacks Post\n",
    "description:  Demo for CSA SASS and SCSS and other works\n",
    "type: issues \n",
    "comments: true\n",
    "---"
   ]
  },
  {
   "cell_type": "code",
   "execution_count": 4,
   "metadata": {},
   "outputs": [
    {
     "name": "stdout",
     "output_type": "stream",
     "text": [
      "Pre sorted list:  [21, 75, 42, 7, 88, 30, 57, 78, 89, 70]\n",
      "Sorted list:  [7, 21, 30, 42, 57, 70, 75, 78, 88, 89]\n"
     ]
    }
   ],
   "source": [
    "import random\n",
    "\n",
    "# Sorting algorithms\n",
    "def bogo_sort(lst):\n",
    "    while not is_sorted(lst):\n",
    "        shuffle_size = random.randint(0, len(lst) - 1)\n",
    "        count = 0\n",
    "        while count < shuffle_size:\n",
    "            a = random.randint(0, len(lst) - 1)\n",
    "            b = random.randint(0, len(lst) - 1)\n",
    "            lst[a], lst[b] = lst[b], lst[a]\n",
    "            count += 1\n",
    "    return lst\n",
    "\n",
    "def is_sorted(lst):\n",
    "    for i in range(len(lst) - 1):\n",
    "        if lst[i] > lst[i + 1]:\n",
    "            return False\n",
    "    return True\n",
    "\n",
    "def main():\n",
    "    # Generate a list of random numbers\n",
    "    list_size = 10  # You can change the size of the list here\n",
    "    lst = [random.randint(1, 100) for _ in range(list_size)]\n",
    "    print(\"Pre sorted list: \", lst)\n",
    "    print(\"Sorted list: \", bogo_sort(lst))\n",
    "\n",
    "if __name__ == \"__main__\":\n",
    "    main()"
   ]
  },
  {
   "cell_type": "code",
   "execution_count": 1,
   "metadata": {},
   "outputs": [
    {
     "name": "stdout",
     "output_type": "stream",
     "text": [
      "Hello There ❤️\n"
     ]
    }
   ],
   "source": [
    "import emoji\n",
    "\n",
    "message = str(input(\"Say what you want: \"))\n",
    "emoji_type = str(input(\"Type the kind of emoji that you want (T, H)\"))\n",
    "\n",
    "if emoji_type.lower() == \"t\":\n",
    "    print(message + \" \" + emoji.emojize(':thumbs_up:'))\n",
    "elif emoji_type.lower() == \"h\":\n",
    "    print(message + \" \" + emoji.emojize(':red_heart:'))\n"
   ]
  }
 ],
 "metadata": {
  "kernelspec": {
   "display_name": "Python 3",
   "language": "python",
   "name": "python3"
  },
  "language_info": {
   "codemirror_mode": {
    "name": "ipython",
    "version": 3
   },
   "file_extension": ".py",
   "mimetype": "text/x-python",
   "name": "python",
   "nbconvert_exporter": "python",
   "pygments_lexer": "ipython3",
   "version": "3.11.8"
  }
 },
 "nbformat": 4,
 "nbformat_minor": 2
}
