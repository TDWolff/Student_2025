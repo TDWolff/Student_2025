{
 "cells": [
  {
   "cell_type": "markdown",
   "metadata": {},
   "source": [
    "POPCORN HACKS 7.1 & 7.2 Create an ArrayList of Strings with the following elements: “Apple”, “Banana”, “Cherry”, “Date”, “Elderberry”. Complete the following tasks using the ArrayList methods you’ve learned:\n",
    "\n",
    "Task 1: Print the size of the ArrayList.\n",
    "Task 2: Add a new element “Fig” to the end of the list.\n",
    "Task 3: Insert “Grape” at index 2.\n",
    "Task 4: Replace the element at index 4 with “Guava”.\n",
    "Task 5: Remove the element at index 1.\n",
    "Task 6: Retrieve and print the element at index 3.\n",
    "At the end of each task, print the current state of the ArrayList to verify the result."
   ]
  },
  {
   "cell_type": "code",
   "execution_count": 10,
   "metadata": {
    "vscode": {
     "languageId": "java"
    }
   },
   "outputs": [
    {
     "name": "stdout",
     "output_type": "stream",
     "text": [
      "[apple, banana, cherry, date, elderberry]\n",
      "5\n",
      "[apple, banana, cherry, date, elderberry, fig]\n",
      "[apple, banana, grape, cherry, date, elderberry, fig]\n",
      "[apple, banana, grape, cherry, guava, elderberry, fig]\n",
      "cherry\n"
     ]
    }
   ],
   "source": [
    "ArrayList<String> arrayList;\n",
    "arrayList = new ArrayList<>(Arrays.asList(\"apple\", \"banana\", \"cherry\", \"date\", \"elderberry\"));\n",
    "System.out.println(arrayList);\n",
    "System.out.println(arrayList.size());\n",
    "\n",
    "// add fig to it\n",
    "arrayList.add(\"fig\");\n",
    "System.out.println(arrayList);\n",
    "\n",
    "// add grape to index 2\n",
    "arrayList.add(2, \"grape\");\n",
    "System.out.println(arrayList);\n",
    "\n",
    "// replace index 4 with guava\n",
    "arrayList.set(4, \"guava\");\n",
    "System.out.println(arrayList);\n",
    "\n",
    "// print element at index 3\n",
    "System.out.println(arrayList.get(3));"
   ]
  },
  {
   "cell_type": "markdown",
   "metadata": {},
   "source": [
    "------------------------------------------------------------------------------------------------------------------------------------------------------------------------------------------------------------------------------------------------------------------------------------------------------\n",
    "\n",
    "# 1. Which of the following are methods to interact with arrays?\n",
    "\n",
    "- swapConsecutive\n",
    "\n",
    "- variable.get\n",
    "\n",
    "- All of the above\n",
    "\n",
    " Answer: All of the above\n",
    "\n",
    "\n",
    "# 2. What happens when you run a command requesting the item arr[-1]?\n",
    "\n",
    "- nothing, it gets the last item\n",
    "\n",
    "- Your computer goes crazy and crashes\n",
    "\n",
    "- you get the error ArrayIndexOutOfBoundsException\n",
    "\n",
    "    Answer: you get the error ArrayIndexOutOfBoundsException\n",
    "\n",
    "\n",
    "Submit\n",
    "You scored 2 out of 2. :))\n",
    "\n",
    "------------------------------------------------------------------------------------------------------------------------------------------------------------------------------------------------------------------------------------------------------------------------------------------------------"
   ]
  },
  {
   "cell_type": "markdown",
   "metadata": {},
   "source": [
    "7.4 - 7.5 Hack"
   ]
  },
  {
   "cell_type": "code",
   "execution_count": 12,
   "metadata": {
    "vscode": {
     "languageId": "java"
    }
   },
   "outputs": [
    {
     "name": "stdout",
     "output_type": "stream",
     "text": [
      "[1, 2, 3, 4, 5, 6, 7, 8, 9, 10]\n",
      "Max: 10, Second Max: 9, Min: 1, Second Min: 2\n"
     ]
    }
   ],
   "source": [
    "import java.util.ArrayList;\n",
    "import java.util.Arrays;\n",
    "\n",
    "public static String highestAndSecondHighest(ArrayList<Integer> intList) {\n",
    "    int max = Integer.MIN_VALUE;\n",
    "    int secondMax = Integer.MIN_VALUE;\n",
    "    int min = Integer.MAX_VALUE;\n",
    "    int secondMin = Integer.MAX_VALUE;\n",
    "    for (int i = 0; i < intList.size(); i++) {\n",
    "        if (intList.get(i) > max) {\n",
    "            secondMax = max;\n",
    "            max = intList.get(i);\n",
    "        } else if (intList.get(i) > secondMax) {\n",
    "            secondMax = intList.get(i);\n",
    "        }\n",
    "        if (intList.get(i) < min) {\n",
    "            secondMin = min;\n",
    "            min = intList.get(i);\n",
    "        } else if (intList.get(i) < secondMin) {\n",
    "            secondMin = intList.get(i);\n",
    "        }\n",
    "    }\n",
    "    return \"Max: \" + max + \", Second Max: \" + secondMax + \", Min: \" + min + \", Second Min: \" + secondMin;\n",
    "}\n",
    "\n",
    "\n",
    "ArrayList<Integer> intList = new ArrayList<>(Arrays.asList(1, 2, 3, 4, 5, 6, 7, 8, 9, 10));\n",
    "System.out.println(intList);\n",
    "System.out.println(highestAndSecondHighest(intList));"
   ]
  },
  {
   "cell_type": "markdown",
   "metadata": {},
   "source": [
    "Finish the code below so that it uses the findSum() method and it finds the sum of the numbers.\n",
    "```java\n",
    "public class ArrayListHacks {\n",
    "    private int findSum(ArrayList<Integer> values) {\n",
    "        // Your code here\n",
    "        return 0;\n",
    "    }\n",
    "\n",
    "    public static void main(String[] args) {\n",
    "        ArrayList<Integer> nums = new ArrayList<>();\n",
    "        nums.add(0);\n",
    "        nums.add(1);\n",
    "        nums.add(2);\n",
    "        nums.add(3);\n",
    "        nums.add(5);\n",
    "        nums.add(8);\n",
    "\n",
    "        ArrayListHacks hacks = new ArrayListHacks();\n",
    "        hacks.findSum(nums);\n",
    "    }\n",
    "}\n",
    "\n",
    "ArrayListHacks.main(null);\n",
    "```"
   ]
  },
  {
   "cell_type": "code",
   "execution_count": 17,
   "metadata": {
    "vscode": {
     "languageId": "java"
    }
   },
   "outputs": [
    {
     "name": "stdout",
     "output_type": "stream",
     "text": [
      "Sum: 19\n"
     ]
    }
   ],
   "source": [
    "import java.util.ArrayList;\n",
    "\n",
    "public class ArrayListHacks {\n",
    "    private int findSum(ArrayList<Integer> values) {\n",
    "        int sum = 0;\n",
    "        for (int value : values) {\n",
    "            sum += value;\n",
    "        }\n",
    "        return sum;\n",
    "    }\n",
    "\n",
    "    public static void main(String[] args) {\n",
    "        ArrayList<Integer> nums = new ArrayList<>();\n",
    "        nums.add(0);\n",
    "        nums.add(1);\n",
    "        nums.add(2);\n",
    "        nums.add(3);\n",
    "        nums.add(5);\n",
    "        nums.add(8);\n",
    "\n",
    "        ArrayListHacks hacks = new ArrayListHacks();\n",
    "        int sum = hacks.findSum(nums);\n",
    "        System.out.println(\"Sum: \" + sum);\n",
    "    }\n",
    "}\n",
    "\n",
    "ArrayListHacks.main(null);"
   ]
  },
  {
   "cell_type": "code",
   "execution_count": 13,
   "metadata": {
    "vscode": {
     "languageId": "java"
    }
   },
   "outputs": [
    {
     "name": "stdout",
     "output_type": "stream",
     "text": [
      "Sorted array:\n",
      "11 12 22 25 64 "
     ]
    }
   ],
   "source": [
    "public class SelectionSort {\n",
    "    public static void main(String[] args) {\n",
    "        int[] numbers = {64, 25, 12, 22, 11};  // Example array of numbers\n",
    "\n",
    "        // Perform selection sort\n",
    "        for (int outerLoop = 0; outerLoop < numbers.length - 1; outerLoop++) {\n",
    "            // Start by assuming the current item is the smallest\n",
    "            int minIndex = outerLoop;\n",
    "\n",
    "            // Check the rest of the array for anything smaller\n",
    "            for (int inner = outerLoop + 1; inner < numbers.length; inner++) {\n",
    "                // If you find something smaller, update the index\n",
    "                if (numbers[inner] < numbers[minIndex]) {\n",
    "                    minIndex = inner;\n",
    "                }\n",
    "            }\n",
    "\n",
    "            // If the smallest item isn’t already in the right place, swap them\n",
    "            if (minIndex != outerLoop) {\n",
    "                // Swap numbers[outerLoop] and numbers[minIndex]\n",
    "                int temp = numbers[outerLoop];\n",
    "                numbers[outerLoop] = numbers[minIndex];\n",
    "                numbers[minIndex] = temp;\n",
    "            }\n",
    "        }\n",
    "\n",
    "        // Print the sorted array\n",
    "        System.out.println(\"Sorted array:\");\n",
    "        for (int num : numbers) {\n",
    "            System.out.print(num + \" \");\n",
    "        }\n",
    "    }\n",
    "}\n",
    "\n",
    "SelectionSort.main(null);"
   ]
  },
  {
   "cell_type": "markdown",
   "metadata": {},
   "source": [
    "6th PopCorn - Hack\n",
    "Problem: Sort the Ducks!\n",
    "You have a list of ducks, and each duck has a name and weight. Your task is to sort these ducks by weight in ascending order.\n",
    "\n",
    "Choose either Selection Sort or Insertion Sort to do the sorting.\n",
    "\n",
    "Example:\n",
    "Given this list:\n",
    "\n",
    "Duck A (4.5 kg)\n",
    "Duck B (2.1 kg)\n",
    "Duck C (5.0 kg)\n",
    "Duck D (1.9 kg)\n",
    "\n",
    "After sorting, the output should be:\n",
    "\n",
    "Duck D (1.9 kg)\n",
    "Duck B (2.1 kg)\n",
    "Duck A (4.5 kg)\n",
    "Duck C (5.0 kg)\n"
   ]
  },
  {
   "cell_type": "code",
   "execution_count": 15,
   "metadata": {
    "vscode": {
     "languageId": "java"
    }
   },
   "outputs": [
    {
     "name": "stdout",
     "output_type": "stream",
     "text": [
      "Howard (1.8 kg)\n",
      "Daffy (2.5 kg)\n",
      "Donald (3.0 kg)\n"
     ]
    }
   ],
   "source": [
    "class DebugDuck implements Comparable<DebugDuck> {\n",
    "    private String name;\n",
    "    private double weight;\n",
    "\n",
    "    public DebugDuck(String name, double weight) {\n",
    "        this.name = name;\n",
    "        this.weight = weight;\n",
    "    }\n",
    "\n",
    "    @Override\n",
    "    public int compareTo(DebugDuck other) {\n",
    "        return Double.compare(this.weight, other.weight);\n",
    "    }\n",
    "\n",
    "    @Override\n",
    "    public String toString() {\n",
    "        return name + \" (\" + weight + \" kg)\";\n",
    "    }\n",
    "\n",
    "    public static void main(String[] args) {\n",
    "        List<DebugDuck> ducks = new ArrayList<>();\n",
    "        ducks.add(new DebugDuck(\"Daffy\", 2.5));\n",
    "        ducks.add(new DebugDuck(\"Donald\", 3.0));\n",
    "        ducks.add(new DebugDuck(\"Howard\", 1.8));\n",
    "\n",
    "        Collections.sort(ducks);\n",
    "\n",
    "        for (DebugDuck duck : ducks) {\n",
    "            System.out.println(duck);\n",
    "        }\n",
    "    }\n",
    "}\n",
    "\n",
    "DebugDuck.main(null);"
   ]
  },
  {
   "cell_type": "markdown",
   "metadata": {},
   "source": [
    "7th mini Hack:\n",
    "What can be used in place of the blank to ensure the users data is cleared?\n",
    "```java\n",
    "ArrayList<String> userData = new ArrayList<>();\n",
    "userData.add(\"John Doe\");\n",
    "userData.add(\"john@example.com\");\n",
    "\n",
    "// Once you're done using the data\n",
    "userData.clear(); // Removes all entries\n",
    "userData = _____;  //\n",
    "```\n",
    "\n",
    "Answer:\n",
    "- userData = null;"
   ]
  },
  {
   "cell_type": "markdown",
   "metadata": {},
   "source": [
    "ArrayList Coding Activity\n",
    "Objective:\n",
    "Students will create, manipulate, and sort an ArrayList of integers."
   ]
  },
  {
   "cell_type": "code",
   "execution_count": 29,
   "metadata": {
    "vscode": {
     "languageId": "java"
    }
   },
   "outputs": [
    {
     "name": "stdout",
     "output_type": "stream",
     "text": [
      "[pineapple, pepperoni, mozzerella, sardines, sausage]\n",
      "[pineapple, tomato sauce, mozzerella, sardines, sausage]\n",
      "[pineapple, tomato sauce, mozzerella, sausage]\n",
      "Sausage is in Array List\n",
      "pineapple\n",
      "tomato sauce\n",
      "mozzerella\n",
      "sausage\n",
      "[1, 131, 643, 6548, 23, 74, 12]\n",
      "[1, 12, 23, 74, 131, 643, 6548]\n"
     ]
    }
   ],
   "source": [
    "ArrayList<String> arrayList;\n",
    "arrayList = new ArrayList<>(Arrays.asList(\"pineapple\", \"pepperoni\", \"mozzerella\", \"sardines\", \"sausage\"));\n",
    "System.out.println(arrayList);\n",
    "arrayList.set(1, \"tomato sauce\");\n",
    "System.out.println(arrayList);\n",
    "arrayList.remove(3);\n",
    "System.out.println(arrayList);\n",
    "if (arrayList.contains(\"sausage\")) {\n",
    "    System.out.println(\"Sausage is in Array List\");\n",
    "}\n",
    "else\n",
    "{\n",
    "    System.out.println(\"Sausage is not in Array List\");\n",
    "}\n",
    "\n",
    "for (String arrayItem : arrayList) {\n",
    "    System.out.println(arrayItem);\n",
    "}\n",
    "\n",
    "ArrayList<Integer> intList;\n",
    "intList = new ArrayList<>(Arrays.asList(1, 131, 643, 6548, 23, 74, 12));\n",
    "System.out.println(intList);\n",
    "Collections.sort(intList);\n",
    "System.out.println(intList);"
   ]
  },
  {
   "cell_type": "markdown",
   "metadata": {},
   "source": [
    "\n",
    "\n",
    "Activity Outline:\n",
    "- Create an ArrayList:\n",
    "- [x] Task: Create an ArrayList of integers and add 5 elements of your choice.\n",
    "- Hint: Use the ArrayList class and the .add() method to add elements.\n",
    "- Modify an Element:\n",
    "- [x] Task: Change the second element (index 1) of the ArrayList to a new value (e.g., 100).\n",
    "- Hint: The .set() method allows you to update an element at a specific index.\n",
    "- Remove an Element:\n",
    "- [x] Task: Remove the third element (index 2) from the ArrayList.\n",
    "- Hint: Use the .remove() method to delete an element by its index.\n",
    "- Search for an Element:\n",
    "- [x] Task: Check if a specific number (e.g., 30) is in the ArrayList and print a message based on whether it is found or not.\n",
    "- Hint: The .contains() method can be used to check for the presence of an element.\n",
    "- Loop Through the ArrayList:\n",
    "- [x] Task: Use a for loop to print each element of the ArrayList.\n",
    "- Hint: You can use a traditional for loop or an enhanced for loop (for-each) to iterate through the elements.\n",
    "- Sort the ArrayList:\n",
    "- [x] Task: Sort the ArrayList in ascending order.\n",
    "- Hint: Use Collections.sort() to sort the ArrayList.\n",
    "- Print the Sorted ArrayList:\n",
    "- [x] Task: Print the sorted ArrayList to see the updated order of the elements.\n",
    "- Hint: Use System.out.println() to print the sorted list."
   ]
  }
 ],
 "metadata": {
  "kernelspec": {
   "display_name": "Java",
   "language": "java",
   "name": "java"
  },
  "language_info": {
   "codemirror_mode": "java",
   "file_extension": ".jshell",
   "mimetype": "text/x-java-source",
   "name": "Java",
   "pygments_lexer": "java",
   "version": "17.0.6+10-LTS"
  }
 },
 "nbformat": 4,
 "nbformat_minor": 2
}
