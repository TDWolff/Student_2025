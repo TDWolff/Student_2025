{
 "cells": [
  {
   "cell_type": "markdown",
   "metadata": {},
   "source": [
    "# 3.1 Hacks\n",
    "\n",
    "1. True\n",
    "2. True\n",
    "3. True\n",
    "4. False\n",
    "5. False\n",
    "6. True"
   ]
  },
  {
   "cell_type": "code",
   "execution_count": 4,
   "metadata": {
    "vscode": {
     "languageId": "java"
    }
   },
   "outputs": [],
   "source": [
    "// whats wrong with this code? (below)\n",
    "String Anika = \"Anika\";\n",
    "String Alisha = \"Alisha\";\n",
    "String myName = Alisha;\n",
    "\n",
    "myName != Anika;\n",
    "myName == Alisha ;\n",
    "   String myName = Alisha;\n",
    "\n",
    "// the code is not working because the variable Alisha is not defined.\n",
    "\n",
    "// cannot find symbol\n",
    "\n",
    "//   symbol:   variable Alisha"
   ]
  },
  {
   "cell_type": "markdown",
   "metadata": {
    "vscode": {
     "languageId": "java"
    }
   },
   "source": [
    "homework question:\n",
    "the num is set to a number inclusive between 1 and 6"
   ]
  },
  {
   "cell_type": "code",
   "execution_count": 5,
   "metadata": {
    "vscode": {
     "languageId": "java"
    }
   },
   "outputs": [],
   "source": [
    "// popcorn hack\n",
    "// create test cases that do not satisy the condition above. you can copy/paste the code into the new code cell\n",
    "\n",
    "\n",
    "public static void main(String[] args) {\n",
    "    int myAge = 16;\n",
    "    System.out.println(\"Current age: \" + myAge);\n",
    "    \n",
    "    if (myAge >= 16) {\n",
    "        System.out.println(\"You can start learning to drive!\");\n",
    "    }\n",
    "\n",
    "    System.out.println(\"On your next birthday, you will be \" + (myAge + 1) + \" years old!\");\n",
    "}\n",
    "\n",
    "\n",
    "// test case\n",
    "// when myAge is 15 or less"
   ]
  },
  {
   "cell_type": "markdown",
   "metadata": {},
   "source": [
    "3.4 Hacks\n",
    "\n",
    "if you printed 19 you would be able to vote and are old for a drivers license.\n",
    "if you tested 13 you would not be able to do anything cause you satisfy none of the requirements."
   ]
  },
  {
   "cell_type": "code",
   "execution_count": 6,
   "metadata": {
    "vscode": {
     "languageId": "java"
    }
   },
   "outputs": [
    {
     "name": "stdout",
     "output_type": "stream",
     "text": [
      "This is within your budget\n"
     ]
    }
   ],
   "source": [
    "int balance = 10;\n",
    "\n",
    "if (balance > 10){\n",
    "    System.out.println(\"This is out of your budget\");\n",
    "}\n",
    "else if (balance <= 10){\n",
    "    System.out.println(\"This is within your budget\");\n",
    "}"
   ]
  },
  {
   "cell_type": "markdown",
   "metadata": {},
   "source": [
    "3.5 hacks\n",
    "if they are a student then they get discounts, using specific variables returns specific values.\n",
    "Output for the program will be your eligible for a student discount."
   ]
  },
  {
   "cell_type": "code",
   "execution_count": 7,
   "metadata": {
    "vscode": {
     "languageId": "java"
    }
   },
   "outputs": [
    {
     "name": "stdout",
     "output_type": "stream",
     "text": [
      "Nothing approved\n"
     ]
    }
   ],
   "source": [
    "public class Main {\n",
    "    public static void main(String[] args) {\n",
    "        int age = 18; // Change this value for testing\n",
    "        boolean isStudent = false; // Change this value for testing\n",
    "\n",
    "        if (age >= 18 && isStudent == true){\n",
    "            System.out.println(\"Discount approved\");\n",
    "            if (age >= 30 && isStudent == true){\n",
    "                System.out.println(\"Full ride scholarship since you are over 30\");\n",
    "            }\n",
    "        }\n",
    "        else if (age < 18 && isStudent == false){\n",
    "            System.out.println(\"Discount not approved\");\n",
    "        }\n",
    "        else if (age > 18 && isStudent == false){\n",
    "            System.out.println(\"Discount not approved\");\n",
    "        }\n",
    "        else{\n",
    "            System.out.println(\"Nothing approved\");\n",
    "        }\n",
    "    }\n",
    "}\n",
    "\n",
    "Main.main(null);"
   ]
  },
  {
   "cell_type": "markdown",
   "metadata": {},
   "source": [
    "3.6\n",
    "\n",
    " - !(x==0) is the same as (x != 0)\n",
    " - (x < -5 || x > 10) is equivalent to !(x >= -5 && x <= 10)"
   ]
  },
  {
   "cell_type": "markdown",
   "metadata": {},
   "source": [
    "3.7\n",
    "- sharons and myhouse are the same cause they have the same input values."
   ]
  },
  {
   "cell_type": "code",
   "execution_count": 9,
   "metadata": {
    "vscode": {
     "languageId": "java"
    }
   },
   "outputs": [
    {
     "name": "stdout",
     "output_type": "stream",
     "text": [
      "Enter your age: Enter your annual income: Are you a student? (yes or no): Enter your employment type (full-time, part-time, unemployed): You qualify for Premium Membership.\n",
      "You qualify for Student Discount.\n",
      "Final Recommendation: Premium Membership\n"
     ]
    }
   ],
   "source": [
    "import java.util.Scanner;\n",
    "\n",
    "public class PrimeClubMembership {\n",
    "    public static void main(String[] args) {\n",
    "        Scanner scanner = new Scanner(System.in);\n",
    "\n",
    "        // Prompt user for inputs\n",
    "        System.out.print(\"Enter your age: \");\n",
    "        int age = scanner.nextInt();\n",
    "\n",
    "        System.out.print(\"Enter your annual income: \");\n",
    "        double income = scanner.nextDouble();\n",
    "\n",
    "        System.out.print(\"Are you a student? (yes or no): \");\n",
    "        String studentStatus = scanner.next().toLowerCase();\n",
    "\n",
    "        System.out.print(\"Enter your employment type (full-time, part-time, unemployed): \");\n",
    "        String employmentType = scanner.next().toLowerCase();\n",
    "\n",
    "        // Validate inputs\n",
    "        if (age <= 0 || income <= 0 || (!studentStatus.equals(\"yes\") && !studentStatus.equals(\"no\")) ||\n",
    "                (!employmentType.equals(\"full-time\") && !employmentType.equals(\"part-time\") && !employmentType.equals(\"unemployed\"))) {\n",
    "            System.out.println(\"Invalid input. Please enter valid details.\");\n",
    "            return;\n",
    "        }\n",
    "\n",
    "        // Determine membership eligibility\n",
    "        boolean qualifiesForPremium = income >= 50000;\n",
    "        boolean qualifiesForSeniorDiscount = age >= 65;\n",
    "        boolean qualifiesForStudentDiscount = studentStatus.equals(\"yes\");\n",
    "        boolean qualifiesForBasic = !qualifiesForPremium && !qualifiesForSeniorDiscount && !qualifiesForStudentDiscount;\n",
    "\n",
    "        // Print all qualifying memberships\n",
    "        if (qualifiesForPremium) {\n",
    "            System.out.println(\"You qualify for Premium Membership.\");\n",
    "        }\n",
    "        if (qualifiesForSeniorDiscount) {\n",
    "            System.out.println(\"You qualify for Senior Discount.\");\n",
    "        }\n",
    "        if (qualifiesForStudentDiscount) {\n",
    "            System.out.println(\"You qualify for Student Discount.\");\n",
    "        }\n",
    "        if (qualifiesForBasic) {\n",
    "            System.out.println(\"You qualify for Basic Membership.\");\n",
    "        }\n",
    "\n",
    "        // Print final recommendation\n",
    "        if (qualifiesForPremium) {\n",
    "            System.out.println(\"Final Recommendation: Premium Membership\");\n",
    "        } else if (qualifiesForSeniorDiscount) {\n",
    "            System.out.println(\"Final Recommendation: Senior Discount\");\n",
    "        } else if (qualifiesForStudentDiscount) {\n",
    "            System.out.println(\"Final Recommendation: Student Discount\");\n",
    "        } else if (qualifiesForBasic) {\n",
    "            System.out.println(\"Final Recommendation: Basic Membership\");\n",
    "        } else {\n",
    "            System.out.println(\"You do not qualify for any memberships or discounts.\");\n",
    "        }\n",
    "\n",
    "        scanner.close();\n",
    "    }\n",
    "}\n",
    "\n",
    "PrimeClubMembership.main(null);"
   ]
  }
 ],
 "metadata": {
  "kernelspec": {
   "display_name": "Java",
   "language": "java",
   "name": "java"
  },
  "language_info": {
   "codemirror_mode": "java",
   "file_extension": ".jshell",
   "mimetype": "text/x-java-source",
   "name": "Java",
   "pygments_lexer": "java",
   "version": "17.0.6+10-LTS"
  }
 },
 "nbformat": 4,
 "nbformat_minor": 2
}
