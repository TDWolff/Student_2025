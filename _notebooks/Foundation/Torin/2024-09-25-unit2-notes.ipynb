{
 "cells": [
  {
   "cell_type": "markdown",
   "metadata": {},
   "source": [
    "Unit 2 Hack:"
   ]
  },
  {
   "cell_type": "code",
   "execution_count": 4,
   "metadata": {
    "vscode": {
     "languageId": "java"
    }
   },
   "outputs": [
    {
     "name": "stdout",
     "output_type": "stream",
     "text": [
      "Woof!\n"
     ]
    }
   ],
   "source": [
    "class Dog {\n",
    "    private String name;\n",
    "    private String breed;\n",
    "    private int age;\n",
    "    public String noise = \"Woof!\";\n",
    "\n",
    "    // Constructor to initialize the dog's name, breed, and age\n",
    "    public Dog(String name, String breed, int age) {\n",
    "        this.name = name;\n",
    "        this.breed = breed;\n",
    "        this.age = age;\n",
    "    }\n",
    "\n",
    "    // Instance method to make the dog bark\n",
    "    public void bark() {\n",
    "        System.out.println(noise);\n",
    "    }\n",
    "}\n",
    "\n",
    "public class Main {\n",
    "    public static void main(String[] args) {\n",
    "        // Create a Dog object with name, breed, and age\n",
    "        Dog myDog = new Dog(\"Shelby\", \"Golden Retriever\", 5);\n",
    "        // Call the bark method to print \"Woof!\"\n",
    "        myDog.bark();\n",
    "    }\n",
    "}\n",
    "\n",
    "Main.main(new String[0]);"
   ]
  },
  {
   "cell_type": "code",
   "execution_count": 7,
   "metadata": {
    "vscode": {
     "languageId": "java"
    }
   },
   "outputs": [
    {
     "name": "stdout",
     "output_type": "stream",
     "text": [
      "The title of the movie is: Iron Man\n"
     ]
    }
   ],
   "source": [
    "public class Movies\n",
    "{\n",
    "    public void Movies(String title)\n",
    "    {\n",
    "        System.out.println(\"The title of the movie is: \" + title);\n",
    "    }\n",
    "}\n",
    "\n",
    "public class Main\n",
    "{\n",
    "    public static void main(String[] args)\n",
    "    {\n",
    "        Movies movie = new Movies();\n",
    "        movie.Movies(\"Iron Man\");\n",
    "    }\n",
    "}\n",
    "\n",
    "Main.main(new String[0]);"
   ]
  },
  {
   "cell_type": "code",
   "execution_count": 11,
   "metadata": {
    "vscode": {
     "languageId": "java"
    }
   },
   "outputs": [
    {
     "name": "stdout",
     "output_type": "stream",
     "text": [
      "Skibidi!!SigmaSkibidi\n"
     ]
    }
   ],
   "source": [
    "public class Concatentations\n",
    "{\n",
    "    public static void main(String[] args)\n",
    "    {\n",
    "        String name1 = \"Skibidi\";\n",
    "        String name2 = new String(\"Sigma\");\n",
    "        String name3 = new String(name1);\n",
    "\n",
    "        name1 += \"!!\";\n",
    "        String mystery = name1 + name2 + name3;\n",
    "\n",
    "        System.out.println(mystery);\n",
    "    }\n",
    "}\n",
    "\n",
    "\n",
    "Concatentations.main(null);"
   ]
  },
  {
   "cell_type": "code",
   "execution_count": 12,
   "metadata": {
    "vscode": {
     "languageId": "java"
    }
   },
   "outputs": [
    {
     "name": "stdout",
     "output_type": "stream",
     "text": [
      "\n",
      "What is printed if we only pass one parameter into the substring method?\n",
      "ibidi\n"
     ]
    }
   ],
   "source": [
    "public class SubstringOfDemo {\n",
    "    public static void main(String[] args) {\n",
    "        String word = new String(\"skibidi\");\n",
    "\n",
    "        System.out.println(\"\\nWhat is printed if we only pass one parameter into the substring method?\");\n",
    "        System.out.println(word.substring(2));\n",
    "    }\n",
    "}\n",
    "\n",
    "\n",
    "SubstringOfDemo.main(null)"
   ]
  },
  {
   "cell_type": "code",
   "execution_count": 13,
   "metadata": {
    "vscode": {
     "languageId": "java"
    }
   },
   "outputs": [
    {
     "name": "stdout",
     "output_type": "stream",
     "text": [
      "\n",
      "If word is < word2, a negative value will be printed. If they are equal, 0 will be printed, and if word > word2, a positive value is printed\n",
      "-1\n",
      "\n",
      "Comparison between word and word3\n",
      "0\n"
     ]
    }
   ],
   "source": [
    "public class CompareToDemo {\n",
    "    public static void main(String[] args) {\n",
    "        String word = new String(\"skibidi\");\n",
    "        String word2 = new String(\"skibidi1\");\n",
    "        String word3 = new String(\"skibidi\");\n",
    "\n",
    "        System.out.println(\"\\nIf word is < word2, a negative value will be printed. If they are equal, 0 will be printed, and if word > word2, a positive value is printed\");\n",
    "        System.out.println(word.compareTo(word2));\n",
    "\n",
    "        System.out.println(\"\\nComparison between word and word3\");\n",
    "        System.out.println(word.compareTo(word3));\n",
    "    }\n",
    "}\n",
    "\n",
    "CompareToDemo.main(null)"
   ]
  },
  {
   "cell_type": "code",
   "execution_count": 14,
   "metadata": {
    "vscode": {
     "languageId": "java"
    }
   },
   "outputs": [
    {
     "name": "stdout",
     "output_type": "stream",
     "text": [
      "\n",
      "This displays if word1 = word2, if false it returns false, if true it returns true\n",
      "false\n",
      "\n",
      "This displays if word1 = word3, if false it returns false, if true it returns true\n",
      "true\n"
     ]
    }
   ],
   "source": [
    "public class EqualToDemo {\n",
    "    public static void main(String[] args) {\n",
    "        String word = new String(\"skibidi\");\n",
    "        String word2 = new String(\"skibidi1\");\n",
    "        String word3 = new String(\"skibidi\");\n",
    "\n",
    "        System.out.println(\"\\nThis displays if word1 = word2, if false it returns false, if true it returns true\");\n",
    "        System.out.println(word.equals((word2)));\n",
    "\n",
    "        System.out.println(\"\\nThis displays if word1 = word3, if false it returns false, if true it returns true\");\n",
    "        System.out.println(word.equals((word3)));\n",
    "    }\n",
    "}\n",
    "\n",
    "EqualToDemo.main(null)"
   ]
  },
  {
   "cell_type": "markdown",
   "metadata": {},
   "source": [
    "Homework\n",
    "Now, it’s time to practice! The following problem will incorporate the following concepts:\n",
    "\n",
    "Classes\n",
    "Constructors\n",
    "Methods\n",
    "Void methods\n",
    "Non-void methods\n",
    "Math class\n",
    "Integer and Double wrapper classes\n",
    "String methods"
   ]
  },
  {
   "cell_type": "code",
   "execution_count": 6,
   "metadata": {
    "vscode": {
     "languageId": "java"
    }
   },
   "outputs": [
    {
     "name": "stdout",
     "output_type": "stream",
     "text": [
      "The circumference of the circle is: 31.41592653589793\n",
      "The area of the circle is: 78.53981633974483\n",
      "\n",
      "Student 1:\n",
      "Name: Aadit\n",
      "Name Length: 5\n",
      "Grade: 75.0\n",
      "Scaled Grade: 37.5\n",
      "\n",
      "Student 2:\n",
      "Name: Emily\n",
      "Name Length: 5\n",
      "Grade: 45.0\n",
      "Scaled Grade: 22.5\n"
     ]
    }
   ],
   "source": [
    "public class Circle {\n",
    "    private double radius;\n",
    "\n",
    "    // Constructor to initialize the radius\n",
    "    public Circle(double radius) {\n",
    "        this.radius = radius;\n",
    "    }\n",
    "\n",
    "    // Method to calculate and print the circumference\n",
    "    public void circumference() {\n",
    "        double circumference = 2 * Math.PI * radius;\n",
    "        System.out.println(\"The circumference of the circle is: \" + circumference);\n",
    "    }\n",
    "\n",
    "    // Method to calculate and print the area\n",
    "    public void area() {\n",
    "        double area = Math.PI * Math.pow(radius, 2);\n",
    "        System.out.println(\"The area of the circle is: \" + area);\n",
    "    }\n",
    "}\n",
    "\n",
    "public class Main {\n",
    "    public static void main(String[] args) {\n",
    "        // Create an instance of the Circle class\n",
    "        Circle myCircle = new Circle(5.0);\n",
    "\n",
    "        // Call the methods to calculate and print the circumference and area\n",
    "        myCircle.circumference();\n",
    "        myCircle.area();\n",
    "\n",
    "        // Testing the Student class\n",
    "        Student student1 = new Student(\"Aadit\", 75);\n",
    "        Student student2 = new Student(\"Emily\", 45);\n",
    "\n",
    "        System.out.println(\"\\nStudent 1:\");\n",
    "        System.out.println(\"Name: \" + student1.getName());\n",
    "        System.out.println(\"Name Length: \" + student1.nameLength());\n",
    "        System.out.println(\"Grade: \" + student1.getGradeAsDouble());\n",
    "        System.out.println(\"Scaled Grade: \" + student1.getScaledGrade());\n",
    "\n",
    "        System.out.println(\"\\nStudent 2:\");\n",
    "        System.out.println(\"Name: \" + student2.getName());\n",
    "        System.out.println(\"Name Length: \" + student2.nameLength());\n",
    "        System.out.println(\"Grade: \" + student2.getGradeAsDouble());\n",
    "        System.out.println(\"Scaled Grade: \" + student2.getScaledGrade());\n",
    "    }\n",
    "}\n",
    "\n",
    "public class Student {\n",
    "    private String name;\n",
    "    private Integer grade;\n",
    "\n",
    "    // Constructor to initialize name and grade\n",
    "    public Student(String name, Integer grade) {\n",
    "        this.name = name;\n",
    "        this.grade = grade;\n",
    "    }\n",
    "\n",
    "    // Getter method for name\n",
    "    public String getName() {\n",
    "        return name;\n",
    "    }\n",
    "\n",
    "    // Getter method for grade\n",
    "    public Integer getGrade() {\n",
    "        return grade;\n",
    "    }\n",
    "\n",
    "    // Method to return the length of the student's name\n",
    "    public int nameLength() {\n",
    "        return name.length();\n",
    "    }\n",
    "\n",
    "    // Method to return the grade as a Double wrapper type\n",
    "    public Double getGradeAsDouble() {\n",
    "        return grade.doubleValue();\n",
    "    }\n",
    "\n",
    "    // Method to return the grade divided by 2\n",
    "    public double getScaledGrade() {\n",
    "        return grade / 2.0;\n",
    "    }\n",
    "}\n",
    "\n",
    "// Execute the main method to see the output\n",
    "Main.main(new String[0]);"
   ]
  }
 ],
 "metadata": {
  "kernelspec": {
   "display_name": "Java",
   "language": "java",
   "name": "java"
  },
  "language_info": {
   "codemirror_mode": "java",
   "file_extension": ".jshell",
   "mimetype": "text/x-java-source",
   "name": "Java",
   "pygments_lexer": "java",
   "version": "17.0.6+10-LTS"
  }
 },
 "nbformat": 4,
 "nbformat_minor": 2
}
