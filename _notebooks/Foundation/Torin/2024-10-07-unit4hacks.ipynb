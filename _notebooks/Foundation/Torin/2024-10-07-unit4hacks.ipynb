{
 "cells": [
  {
   "cell_type": "code",
   "execution_count": 1,
   "metadata": {
    "vscode": {
     "languageId": "java"
    }
   },
   "outputs": [
    {
     "name": "stdout",
     "output_type": "stream",
     "text": [
      "0\n",
      "1\n",
      "2\n",
      "3\n",
      "4\n"
     ]
    }
   ],
   "source": [
    "// Fun While Loop Hack:\n",
    "// find and fix the missing increment in the while loop\n",
    "int i = 0;\n",
    "while (i < 5) {\n",
    "    System.out.println(i);\n",
    "    i++;\n",
    "}"
   ]
  },
  {
   "cell_type": "markdown",
   "metadata": {},
   "source": [
    "Fun For Loop Hack:\n",
    "Create a program that iterates through a list of numbers (int_list = {0, 4, 51, 83, 92, 10, 123, 145}) using both a for loop and a for each loop, then split the numbers in the list into even/odd lists, and output them."
   ]
  },
  {
   "cell_type": "code",
   "execution_count": 2,
   "metadata": {
    "vscode": {
     "languageId": "java"
    }
   },
   "outputs": [
    {
     "name": "stdout",
     "output_type": "stream",
     "text": [
      "Even Numbers: [0, 4, 92, 10, 0, 4, 92, 10]\n",
      "Odd Numbers: [51, 83, 123, 145, 51, 83, 123, 145]\n"
     ]
    }
   ],
   "source": [
    "int[] int_list = {0, 4, 51, 83, 92, 10, 123, 145};\n",
    "\n",
    "List<Integer> evenNumbers = new ArrayList<>();\n",
    "List<Integer> oddNumbers = new ArrayList<>();\n",
    "\n",
    "// Using a for loop\n",
    "for (int i = 0; i < int_list.length; i++) {\n",
    "    if (int_list[i] % 2 == 0) {\n",
    "        evenNumbers.add(int_list[i]);\n",
    "    } else {\n",
    "        oddNumbers.add(int_list[i]);\n",
    "    }\n",
    "}\n",
    "\n",
    "// Using a for-each loop\n",
    "for (int num : int_list) {\n",
    "    if (num % 2 == 0) {\n",
    "        evenNumbers.add(num);\n",
    "    } else {\n",
    "        oddNumbers.add(num);\n",
    "    }\n",
    "}\n",
    "\n",
    "// Output the even and odd lists\n",
    "System.out.println(\"Even Numbers: \" + evenNumbers);\n",
    "System.out.println(\"Odd Numbers: \" + oddNumbers);"
   ]
  },
  {
   "cell_type": "markdown",
   "metadata": {},
   "source": [
    "Popcorn Hack:\n",
    "Iterate through the characters a string with a while loop"
   ]
  },
  {
   "cell_type": "code",
   "execution_count": 3,
   "metadata": {
    "vscode": {
     "languageId": "java"
    }
   },
   "outputs": [
    {
     "name": "stdout",
     "output_type": "stream",
     "text": [
      "p\n",
      "o\n",
      "p\n",
      "c\n",
      "o\n",
      "r\n",
      "n\n"
     ]
    }
   ],
   "source": [
    "String str = \"popcorn\";\n",
    "int i = 0;\n",
    "while (i < str.length()) {\n",
    "    System.out.println(str.charAt(i));\n",
    "    i++;\n",
    "}"
   ]
  },
  {
   "cell_type": "markdown",
   "metadata": {},
   "source": [
    "Homework Hack!\n",
    "code a caesar cipher that will encrypt any string with any key provided.\n",
    "your code should go into the encrypt() method, and should successfully pass the test cases provided\n",
    "as a bonus, try to use StringBuilder"
   ]
  },
  {
   "cell_type": "code",
   "execution_count": 5,
   "metadata": {
    "vscode": {
     "languageId": "java"
    }
   },
   "outputs": [
    {
     "name": "stdout",
     "output_type": "stream",
     "text": [
      "test 1: khoor zruog\n",
      "test 2: klmnopq\n",
      "test 3: c fipy wmu\n"
     ]
    }
   ],
   "source": [
    "public class CaesarCipher {\n",
    "    private int key;\n",
    "    private String phrase;\n",
    "\n",
    "    public CaesarCipher(int key, String phrase) {\n",
    "        this.key = key;\n",
    "        this.phrase = phrase;\n",
    "    }\n",
    "\n",
    "    public String encrypt() {\n",
    "        String encrypted = \"\";\n",
    "        for (int i = 0; i < phrase.length(); i++) {\n",
    "            char c = phrase.charAt(i);\n",
    "            if (Character.isLetter(c)) {\n",
    "                if (Character.isUpperCase(c)) {\n",
    "                    char newChar = (char) (((int) c + key - 65) % 26 + 65);\n",
    "                    encrypted += newChar;\n",
    "                } else {\n",
    "                    char newChar = (char) (((int) c + key - 97) % 26 + 97);\n",
    "                    encrypted += newChar;\n",
    "                }\n",
    "            } else {\n",
    "                encrypted += c;\n",
    "            }\n",
    "        }\n",
    "        return encrypted;\n",
    "    }\n",
    "}\n",
    "\n",
    "CaesarCipher test1 = new CaesarCipher(3, \"hello world\");\n",
    "CaesarCipher test2 = new CaesarCipher(10, \"abcdefg\");\n",
    "CaesarCipher test3 = new CaesarCipher(20, \"i love csa\");\n",
    "\n",
    "System.out.println(\"test 1: \" + test1.encrypt());\n",
    "System.out.println(\"test 2: \" + test2.encrypt());\n",
    "System.out.println(\"test 3: \" + test3.encrypt());"
   ]
  },
  {
   "cell_type": "markdown",
   "metadata": {},
   "source": [
    "What is wrong with this code cell(Hack)\n",
    "//Hint: Check the Syntax and look at the equals to signs on the example above"
   ]
  },
  {
   "cell_type": "code",
   "execution_count": 9,
   "metadata": {
    "vscode": {
     "languageId": "java"
    }
   },
   "outputs": [
    {
     "name": "stdout",
     "output_type": "stream",
     "text": [
      "Enter the number of rows: \n"
     ]
    },
    {
     "name": "stdout",
     "output_type": "stream",
     "text": [
      "1 2 3 4 5 \n",
      "1 2 3 4 \n",
      "1 2 3 \n",
      "1 2 \n",
      "1 \n"
     ]
    }
   ],
   "source": [
    "import java.util.Scanner;\n",
    "Scanner scanner = new Scanner(System.in);\n",
    "System.out.print(\"Enter the number of rows: \");\n",
    "System.out.println();\n",
    "int rows = scanner.nextInt();\n",
    "for (int i = rows; i>0; i--) {  // to go backwards you need a i-- not an i- and also to go to 0 you should exlude 0 and use i>0 not i>1\n",
    "    for (int j = 1; j <= i; j++) {\n",
    "        System.out.print(j + \" \");\n",
    "    }\n",
    "    System.out.println();\n",
    "    }\n",
    "        \n",
    "scanner.close();\n",
    "    "
   ]
  },
  {
   "cell_type": "markdown",
   "metadata": {},
   "source": [
    "MC:\n",
    "1. B because if you run the code cell, it starts at 3 and goes till 8 then it starts at 1 and goes till 5 which together equals 20\n",
    "2. the code would print out 20 * each on a new line"
   ]
  },
  {
   "cell_type": "markdown",
   "metadata": {},
   "source": [
    "HW MC:\n",
    "1. What does the following code print?\n",
    "\n",
    "A. 5 6 7 8 9\n",
    "\n",
    "B. 4 5 6 7 8 9 10 11 12\n",
    "\n",
    "C. 3 5 7 9 11\n",
    "\n",
    "D. 3 4 5 6 7 8 9 10 11 12\n",
    "\n",
    "```java\n",
    "for (int i = 3; i <= 12; i++) {\n",
    "   System.out.print(i + \" \");\n",
    "}\n",
    "```\n",
    "Answer: D because the code starts at 3 and goes till 12 printing each number on the same line with a space between them. \n",
    "1.1. Explain the difference between using a variable like i inside a for loop, vs. using a variable that exists in the code itself for a while loop\n",
    "- the difference between using a variable like i inside a for loop vs using a variable that exists in the code itself for a while loop is that the variable i inside the for loop is only used for the for loop and is not used outside of the for loop. The variable that exists in the code itself for a while loop is used throughout the code and can be used outside of the while loop.\n",
    "2. How many times does the following method print a “*” ?\n",
    "\n",
    "A. 9\n",
    "\n",
    "B. 7\n",
    "\n",
    "C. 8\n",
    "\n",
    "D. 6\n",
    "```java\n",
    "for (int i = 3; i < 11; i++) {\n",
    "   System.out.print(\"*\");\n",
    "}\n",
    "```\n",
    "Answer: A because the code starts at 3 and goes till 10 printing a * which would print * 9 times.\n",
    "\n",
    "3. Question 3:\n",
    "What does the following code print?\n",
    "\n",
    "A. -4 -3 -2 -1 0\n",
    "\n",
    "B. -5 -4 -3 -2 -1\n",
    "\n",
    "C. 5 4 3 2 1\n",
    "```java\n",
    "int x = -5;\n",
    "while (x < 0)\n",
    "{\n",
    "   x++;\n",
    "   System.out.print(x + \" \");\n",
    "}\n",
    "```\n",
    "\n",
    " Answer: B because the code starts at -5 and goes till -1 printing each number on the same line with a space between them.\n",
    "\n",
    "4. What does the following code print?\n",
    "\n",
    "A. 20\n",
    "\n",
    "B. 21\n",
    "\n",
    "C. 25\n",
    "\n",
    "D. 30\n",
    "\n",
    "Click to reveal answer:\n",
    "Explain your answer. (explanation is graded not answer)\n",
    "```java\n",
    "int sum = 0;\n",
    "\n",
    "for (int i = 1; i <= 5; i++) {\n",
    "    if (i % 2 == 0) {\n",
    "        sum += i * 2;\n",
    "    } else {\n",
    "        sum += i;\n",
    "    }\n",
    "}\n",
    "\n",
    "System.out.println(sum);\n",
    "```\n",
    "\n",
    "Answer: C because the code starts at 1 and goes till 5 and if the number is even it multiplies it by 2 and adds it to the sum, if the number is odd it adds it to the sum. The sum is then printed out.\n"
   ]
  },
  {
   "cell_type": "markdown",
   "metadata": {},
   "source": [
    "Loops HW Hack\n",
    "Easy Hack\n",
    "Use a while loop to find the numbers from 1-50 that are divisible by 3 or 5, then store them into a list (make sure to print it out at the end)\n",
    "Use a for loop to do the same thing detailed above"
   ]
  },
  {
   "cell_type": "code",
   "execution_count": 16,
   "metadata": {
    "vscode": {
     "languageId": "java"
    }
   },
   "outputs": [
    {
     "name": "stdout",
     "output_type": "stream",
     "text": [
      "[3, 5, 6, 9, 10, 12, 15, 18, 20, 21, 24, 25, 27, 30, 33, 35, 36, 39, 40, 42, 45, 48, 50]\n"
     ]
    }
   ],
   "source": [
    "import java.util.ArrayList;\n",
    "import java.util.List;\n",
    "\n",
    "public class Main {\n",
    "    public static void main(String[] args) {\n",
    "        List<Integer> divisibleBy3Or5 = new ArrayList<>();\n",
    "        int i = 1;\n",
    "        while (i <= 50) {\n",
    "            if (i % 3 == 0 || i % 5 == 0) {\n",
    "                divisibleBy3Or5.add(i);\n",
    "            }\n",
    "            i++;\n",
    "        }\n",
    "        System.out.println(divisibleBy3Or5);\n",
    "    }\n",
    "}\n",
    "Main.main(new String[0]);"
   ]
  },
  {
   "cell_type": "markdown",
   "metadata": {},
   "source": [
    "Harder Hack\n",
    "Palindromes are numbers that have the same value when reversed (ex: “123321” or “323”). Create a program that uses a while loop that outputs all palindromes in any given list.\n",
    "Sample Input: test_list = [5672, 235, 5537, 6032, 317, 8460, 1672, 8104, 7770, 4442, 913, 2508, 1116, 9969, 9091, 522, 8756, 9527, 7968, 1520, 4444, 515, 2882, 6556, 595]\n",
    "\n",
    "Sample Output: 4444, 515, 2882, 6556, 595"
   ]
  },
  {
   "cell_type": "code",
   "execution_count": 14,
   "metadata": {
    "vscode": {
     "languageId": "java"
    }
   },
   "outputs": [
    {
     "name": "stdout",
     "output_type": "stream",
     "text": [
      "4444\n",
      "515\n",
      "2882\n",
      "6556\n",
      "595\n"
     ]
    }
   ],
   "source": [
    "import java.util.ArrayList;\n",
    "import java.util.List;\n",
    "\n",
    "import java.util.ArrayList;\n",
    "import java.util.List;\n",
    "\n",
    "public class Main {\n",
    "    public static void main(String[] args) {\n",
    "        String[] list = {\"5672\", \"235\", \"5537\", \"6032\", \"317\", \"8460\", \"1672\", \"8104\", \"7770\", \"4442\", \"913\", \"2508\", \"1116\", \"9969\", \"9091\", \"522\", \"8756\", \"9527\", \"7968\", \"1520\", \"4444\", \"515\", \"2882\", \"6556\", \"595\"};\n",
    "        \n",
    "        // Convert the list of strings to an array of integers\n",
    "        int[] intList = new int[list.length];\n",
    "        for (int i = 0; i < list.length; i++) {\n",
    "            intList[i] = Integer.parseInt(list[i]);\n",
    "        }\n",
    "        \n",
    "        // Find palindromes\n",
    "        String[] palindromes = palindromes(intList);\n",
    "        \n",
    "        // Print palindromes\n",
    "        for (String palindrome : palindromes) {\n",
    "            System.out.println(palindrome);\n",
    "        }\n",
    "    }\n",
    "\n",
    "    public static String[] palindromes(int[] test_list) {\n",
    "        List<String> palindromes = new ArrayList<>();\n",
    "        for (int i = 0; i < test_list.length; i++) {\n",
    "            int num = test_list[i];\n",
    "            int reversed = 0;\n",
    "            int original = num;\n",
    "            while (num != 0) {\n",
    "                int digit = num % 10;\n",
    "                reversed = reversed * 10 + digit;\n",
    "                num /= 10;\n",
    "            }\n",
    "            if (original == reversed) {\n",
    "                palindromes.add(String.valueOf(original));\n",
    "            }\n",
    "        }\n",
    "        return palindromes.toArray(new String[0]);\n",
    "    }\n",
    "}\n",
    "\n",
    "Main.main(new String[0]);"
   ]
  },
  {
   "cell_type": "markdown",
   "metadata": {},
   "source": [
    "\n",
    "\n",
    "Bonus Hack (for above 0.9)\n",
    "Use a for loop to output a spiral matrix with size n\n",
    "Example:\n",
    "\n",
    "Sample Input: n = 3\n",
    "\n",
    "Output: [[1, 2, 3], [8, 9, 4], [7, 6, 5]]\n"
   ]
  },
  {
   "cell_type": "code",
   "execution_count": 12,
   "metadata": {
    "vscode": {
     "languageId": "java"
    }
   },
   "outputs": [
    {
     "name": "stdout",
     "output_type": "stream",
     "text": [
      "[1, 2, 3]\n",
      "[8, 9, 4]\n",
      "[7, 6, 5]\n"
     ]
    }
   ],
   "source": [
    "import java.util.Arrays;\n",
    "\n",
    "public class Main {\n",
    "    public static void main(String[] args) {\n",
    "        int n = 3;\n",
    "        int[][] matrix = spiralMatrix(n);\n",
    "        for (int i = 0; i < n; i++) {\n",
    "            System.out.println(Arrays.toString(matrix[i]));\n",
    "        }\n",
    "    }\n",
    "\n",
    "    public static int[][] spiralMatrix(int n) {\n",
    "        int[][] matrix = new int[n][n];\n",
    "        int value = 1;\n",
    "        int minRow = 0;\n",
    "        int maxRow = n - 1;\n",
    "        int minCol = 0;\n",
    "        int maxCol = n - 1;\n",
    "\n",
    "        while (value <= n * n) {\n",
    "            for (int i = minCol; i <= maxCol; i++) {\n",
    "                matrix[minRow][i] = value;\n",
    "                value++;\n",
    "            }\n",
    "            minRow++;\n",
    "            for (int i = minRow; i <= maxRow; i++) {\n",
    "                matrix[i][maxCol] = value;\n",
    "                value++;\n",
    "            }\n",
    "            maxCol--;\n",
    "            for (int i = maxCol; i >= minCol; i--) {\n",
    "                matrix[maxRow][i] = value;\n",
    "                value++;\n",
    "            }\n",
    "            maxRow--;\n",
    "            for (int i = maxRow; i >= minRow; i--) {\n",
    "                matrix[i][minCol] = value;\n",
    "                value++;\n",
    "            }\n",
    "            minCol++;\n",
    "        }\n",
    "        return matrix;\n",
    "    }\n",
    "}\n",
    "\n",
    "Main.main(new String[0]);"
   ]
  }
 ],
 "metadata": {
  "kernelspec": {
   "display_name": "Java",
   "language": "java",
   "name": "java"
  },
  "language_info": {
   "codemirror_mode": "java",
   "file_extension": ".jshell",
   "mimetype": "text/x-java-source",
   "name": "Java",
   "pygments_lexer": "java",
   "version": "17.0.6+10-LTS"
  }
 },
 "nbformat": 4,
 "nbformat_minor": 2
}
