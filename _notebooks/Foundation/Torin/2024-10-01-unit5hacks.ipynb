{
 "cells": [
  {
   "cell_type": "markdown",
   "metadata": {},
   "source": [
    "Popcorn Hack 1.\n",
    "Write a Student class. - Each student has a name - Each student has a score (out of 100) - A student passes if their score is above 70\n",
    "\n",
    "Check which student passes (write a class header, instance variables, constructors, and methods)"
   ]
  },
  {
   "cell_type": "code",
   "execution_count": 20,
   "metadata": {
    "vscode": {
     "languageId": "java"
    }
   },
   "outputs": [
    {
     "name": "stdout",
     "output_type": "stream",
     "text": [
      "Alice passes: true\n",
      "Bob passes: false\n"
     ]
    }
   ],
   "source": [
    "public class Student {\n",
    "    private String name;\n",
    "    private int score;\n",
    "    \n",
    "    // Default constructor\n",
    "    public Student() {\n",
    "        name = \"\";\n",
    "        score = 0;   \n",
    "    }\n",
    "\n",
    "    // Overloaded constructor\n",
    "    public Student(String n, int s) {\n",
    "        name = n;\n",
    "        score = s;\n",
    "    }\n",
    "\n",
    "    // Accessor Methods\n",
    "    public String getName() {\n",
    "        return name;\n",
    "    }\n",
    "\n",
    "    public int getScore(){\n",
    "        return score;\n",
    "    }\n",
    "\n",
    "    // Mutator Methods\n",
    "    public void setName(String n){\n",
    "        name = n;\n",
    "    }\n",
    "\n",
    "    public void setScore(int s){\n",
    "        if(s < 0 || s > 100){\n",
    "            score = 0; // default value\n",
    "        }\n",
    "        else {\n",
    "            score = s;\n",
    "        }\n",
    "    }\n",
    "\n",
    "    public boolean pass(){\n",
    "        return (score >= 70);\n",
    "    }\n",
    "}\n",
    "\n",
    "// Create instances of Student\n",
    "Student student1 = new Student(\"Alice\", 85);\n",
    "Student student2 = new Student(\"Bob\", 65);\n",
    "\n",
    "// Check if students pass\n",
    "System.out.println(student1.getName() + \" passes: \" + student1.pass());\n",
    "System.out.println(student2.getName() + \" passes: \" + student2.pass());\n"
   ]
  },
  {
   "cell_type": "code",
   "execution_count": 14,
   "metadata": {
    "vscode": {
     "languageId": "java"
    }
   },
   "outputs": [
    {
     "name": "stdout",
     "output_type": "stream",
     "text": [
      "The name of the cat is: Whiskers\n"
     ]
    }
   ],
   "source": [
    "// Make your own class with an integer variable\n",
    "// Make a constructor for that\n",
    "// Create an object and print the variable\n",
    "\n",
    "class Cat {\n",
    "    String name;\n",
    "\n",
    "    Cat(String name) {\n",
    "        this.name = name;\n",
    "    }\n",
    "}\n",
    "\n",
    "Cat myCat = new Cat(\"Whiskers\");\n",
    "System.out.println(\"The name of the cat is: \" + myCat.name);"
   ]
  },
  {
   "cell_type": "code",
   "execution_count": 15,
   "metadata": {
    "vscode": {
     "languageId": "java"
    }
   },
   "outputs": [],
   "source": [
    "// Make a no-arg constructor\n",
    "class Dog {\n",
    "    String name;\n",
    "\n",
    "    Dog() {\n",
    "        this.name = \"Buddy\";\n",
    "    }\n",
    "}"
   ]
  },
  {
   "cell_type": "code",
   "execution_count": 16,
   "metadata": {
    "vscode": {
     "languageId": "java"
    }
   },
   "outputs": [],
   "source": [
    "// Make a parameterized constructor\n",
    "class Bird {\n",
    "    String name;\n",
    "\n",
    "    Bird(String name) {\n",
    "        this.name = name;\n",
    "    }\n",
    "}"
   ]
  },
  {
   "cell_type": "code",
   "execution_count": 17,
   "metadata": {
    "vscode": {
     "languageId": "java"
    }
   },
   "outputs": [],
   "source": [
    "// “Make” a default constructor\n",
    "class Cat {\n",
    "    String name;\n",
    "\n",
    "    Cat() {\n",
    "        this.name = \"Whiskers\";\n",
    "    }\n",
    "}"
   ]
  },
  {
   "cell_type": "markdown",
   "metadata": {},
   "source": [
    "Popcorn Hack\n",
    "Gru is preparing for his big mission to steal the moon, and he needs to assign his minions various tasks based on their skills. Create a new getter method called skillLevel and print out the Minion’s skillLevelMinion class with the attributes name, task, and skillLevel. Implement some getter accessor methods, and then create a Minion object to retrieve its values."
   ]
  },
  {
   "cell_type": "code",
   "execution_count": 18,
   "metadata": {
    "vscode": {
     "languageId": "java"
    }
   },
   "outputs": [
    {
     "name": "stdout",
     "output_type": "stream",
     "text": [
      "Stuart\n",
      "Developing propulsion system\n",
      "0\n"
     ]
    }
   ],
   "source": [
    "public class Minion {\n",
    "    private String name;\n",
    "    private String task;\n",
    "    \n",
    "    // Create  skillLevel instance variable\n",
    "    private int skillLevel;\n",
    "\n",
    "    public Minion(String n, String t)\n",
    "    {\n",
    "        name = n;\n",
    "        task = t;\n",
    "    }\n",
    "    // Getter Methods\n",
    "    public String getName()\n",
    "    {\n",
    "        return name;\n",
    "    }\n",
    "    public String getTask()\n",
    "    {\n",
    "        return task;\n",
    "    }\n",
    "\n",
    "    // Add getter method here\n",
    "    public int getSkillLevel()\n",
    "    {\n",
    "        return skillLevel;\n",
    "    }\n",
    "}\n",
    "Minion Stuart = new Minion(\"Stuart\", \"Developing propulsion system\");\n",
    "System.out.println(Stuart.getName());\n",
    "System.out.println(Stuart.getTask());\n",
    "// Add print statement to get skillLevel\n",
    "System.out.println(Stuart.getSkillLevel());"
   ]
  },
  {
   "cell_type": "code",
   "execution_count": 22,
   "metadata": {
    "vscode": {
     "languageId": "java"
    }
   },
   "outputs": [
    {
     "name": "stdout",
     "output_type": "stream",
     "text": [
      "Height: 4.1\n",
      "Name: Kevin\n",
      "Hair: Sprout-Cut\n",
      "Eyes: 2\n"
     ]
    }
   ],
   "source": [
    "// Popcorn Hack\n",
    "// Return all the instance variables in Minion so that we can directly print the object values of the minion Kevin.\n",
    "\n",
    "public class Minion\n",
    "{\n",
    "    // Start by defining instance variables that you'll want to access later via the accessor methods\n",
    "    private double height;\n",
    "    private String name;\n",
    "    private String hair;\n",
    "    private int eyes;\n",
    "\n",
    "    // Default Constructor\n",
    "    //String n, int c\n",
    "    public Minion()\n",
    "    {\n",
    "        height = 3.7;\n",
    "        name = \"Bob\";\n",
    "        hair = \"None\";\n",
    "        eyes = 2;\n",
    "    }\n",
    "\n",
    "    // Overloaded Constructor\n",
    "    public Minion(double h, String n, String hr, int e)\n",
    "    {\n",
    "        height = h;\n",
    "        name = n;\n",
    "        hair = hr;\n",
    "        eyes = e;\n",
    "    }\n",
    "    // Accessor Methods!\n",
    "    public String toString()\n",
    "    {\n",
    "        return \"Height: \" + height + \"\\nName: \" + name + \"\\nHair: \" + hair + \"\\nEyes: \" + eyes;\n",
    "    }\n",
    "}\n",
    "// Create minion object Kevin\n",
    "Minion kevin = new Minion(4.10,\"Kevin\",\"Sprout-Cut\",2);\n",
    "\n",
    "// Print Kevin Object\n",
    "System.out.println(kevin);"
   ]
  },
  {
   "cell_type": "code",
   "execution_count": 23,
   "metadata": {
    "vscode": {
     "languageId": "java"
    }
   },
   "outputs": [],
   "source": [
    "public class Minion\n",
    "{\n",
    "    private String name;\n",
    "\n",
    "    // same naming scheme as a getter but with set instead\n",
    "    public void setName(String n) {\n",
    "        name = n;\n",
    "    }\n",
    "}"
   ]
  },
  {
   "cell_type": "code",
   "execution_count": 27,
   "metadata": {
    "vscode": {
     "languageId": "java"
    }
   },
   "outputs": [
    {
     "name": "stdout",
     "output_type": "stream",
     "text": [
      "Whiskers\n"
     ]
    }
   ],
   "source": [
    "public class Cat {\n",
    "    private String name;\n",
    "\n",
    "    // Setter method for name\n",
    "    public void setName(String n) {\n",
    "        name = n;\n",
    "    }\n",
    "\n",
    "    // Getter method for name\n",
    "    public String getName() {\n",
    "        return name;\n",
    "    }\n",
    "}\n",
    "\n",
    "Cat myCat = new Cat();\n",
    "myCat.setName(\"Whiskers\");\n",
    "System.out.println(myCat.getName());"
   ]
  },
  {
   "cell_type": "code",
   "execution_count": 30,
   "metadata": {
    "vscode": {
     "languageId": "java"
    }
   },
   "outputs": [
    {
     "name": "stdout",
     "output_type": "stream",
     "text": [
      "Whiskers\n"
     ]
    },
    {
     "name": "stdout",
     "output_type": "stream",
     "text": [
      "Fluffy\n"
     ]
    }
   ],
   "source": [
    "public class Cat\n",
    "{\n",
    "    public String name; \n",
    "    public int age;\n",
    "\n",
    "    public Cat(String n, int a)\n",
    "    {\n",
    "        name = n;\n",
    "        age = a;\n",
    "    }\n",
    "\n",
    "    //getter\n",
    "    public String getName()\n",
    "    {\n",
    "        return name;\n",
    "    }\n",
    "\n",
    "    //setter\n",
    "    public void setName(String n)\n",
    "    {\n",
    "        name = n;\n",
    "    }\n",
    "\n",
    "    public void setAge(int a)\n",
    "    {\n",
    "        age = a;\n",
    "    }\n",
    "}\n",
    "\n",
    "Cat myCat = new Cat(\"Whiskers\", 3);\n",
    "System.out.println(myCat.getName());\n",
    "\n",
    "myCat.setName(\"Fluffy\");\n",
    "System.out.println(myCat.getName());"
   ]
  },
  {
   "cell_type": "markdown",
   "metadata": {},
   "source": [
    "Popcorn hack:\n",
    "Add another static method to the Villain class\n",
    "Keep it minion themed and fun!"
   ]
  },
  {
   "cell_type": "code",
   "execution_count": 31,
   "metadata": {
    "vscode": {
     "languageId": "java"
    }
   },
   "outputs": [
    {
     "name": "stdout",
     "output_type": "stream",
     "text": [
      "=== Adding Minions ===\n",
      "Kevin has been added to Gru's army.\n",
      "Stuart has been added to Gru's army.\n",
      "Bob has been added to Gru's army.\n",
      "Bob has been removed from Gru's army.\n",
      "Henchman 1 has been added to Vector's army.\n",
      "\n",
      "=== Villain Descriptions ===\n",
      "Gru is planning to: steal the moon!\n",
      "They have 2 minions.\n",
      "\n",
      "Vector is planning to: take over the world with magnitude and direction!\n",
      "They have 1 minions.\n",
      "\n",
      "=== Total Villain Count ===\n",
      "There are 2 villains in the world.\n"
     ]
    }
   ],
   "source": [
    "import java.util.ArrayList;\n",
    "import java.util.List;\n",
    "\n",
    "public class Villain {\n",
    "    // Instance variables\n",
    "    public String name;\n",
    "    public String evilPlan;\n",
    "    public List<String> minions;\n",
    "    public static int villainCount = 0;\n",
    "\n",
    "    // Constructor for name, plan, and minions\n",
    "    public Villain(String name, String evilPlan) {\n",
    "        this.name = name;\n",
    "        this.evilPlan = evilPlan;\n",
    "        this.minions = new ArrayList<>();\n",
    "        villainCount++;\n",
    "    }\n",
    "\n",
    "    // Instance method to add a minion. LOOK HERE!!\n",
    "    public void addMinion(String minion) {\n",
    "        minions.add(minion);\n",
    "        System.out.println(minion + \" has been added to \" + name + \"'s army.\");\n",
    "    }\n",
    "\n",
    "    public void deleteMinion(String minion) {\n",
    "        minions.remove(minion);\n",
    "        System.out.println(minion + \" has been removed from \" + name + \"'s army.\");\n",
    "    }\n",
    "\n",
    "    // Instance method to describe the villain. \n",
    "    public void describeVillain() {\n",
    "        System.out.println(name + \" is planning to: \" + evilPlan);\n",
    "        System.out.println(\"They have \" + minions.size() + \" minions.\");\n",
    "    }\n",
    "\n",
    "    // Static method to get the total count of villains\n",
    "    public static int getVillainCount() {\n",
    "        return villainCount;\n",
    "    }\n",
    "}\n",
    "\n",
    "public class Main {\n",
    "    public static void main(String[] args) {\n",
    "        Villain.villainCount = 0;\n",
    "\n",
    "        // Create new villains\n",
    "        Villain gru = new Villain(\"Gru\", \"steal the moon!\");\n",
    "        Villain vector = new Villain(\"Vector\", \"take over the world with magnitude and direction!\");\n",
    "\n",
    "        System.out.println(\"=== Adding Minions ===\");\n",
    "        // Create some minions\n",
    "        gru.addMinion(\"Kevin\");\n",
    "        gru.addMinion(\"Stuart\");\n",
    "        gru.addMinion(\"Bob\");\n",
    "        \n",
    "\n",
    "        gru.deleteMinion(\"Bob\");\n",
    "\n",
    "        // Create some minions for Vector\n",
    "        vector.addMinion(\"Henchman 1\");\n",
    "\n",
    "        System.out.println();\n",
    "\n",
    "        // Describe the villains and their plans\n",
    "        System.out.println(\"=== Villain Descriptions ===\");\n",
    "        gru.describeVillain();\n",
    "        System.out.println();\n",
    "        vector.describeVillain();\n",
    "        System.out.println();\n",
    "\n",
    "        // Get the total count of villains\n",
    "        System.out.println(\"=== Total Villain Count ===\");\n",
    "        System.out.println(\"There are \" + Villain.getVillainCount() + \" villains in the world.\");\n",
    "    }\n",
    "}\n",
    "\n",
    "Main.main(null);"
   ]
  },
  {
   "cell_type": "markdown",
   "metadata": {},
   "source": [
    "Popcorn hacks:\n",
    "Look at some of the code I’ve commented out and try experimenting with gadgetsList if you want. Otherwise, just make a static variable that serves a purpose in the program."
   ]
  },
  {
   "cell_type": "code",
   "execution_count": 36,
   "metadata": {
    "vscode": {
     "languageId": "java"
    }
   },
   "outputs": [
    {
     "name": "stdout",
     "output_type": "stream",
     "text": [
      "Total gadgets made: 3\n",
      "Gadget List: [Gadget{name='Freeze Ray'}, Gadget{name='Banana Blaster'}, Gadget{name='Lipstick Taser'}]\n"
     ]
    }
   ],
   "source": [
    "import java.util.ArrayList;\n",
    "import java.util.List;\n",
    "\n",
    "public class Gadget {\n",
    "    public static int totalGadgets = 0;  // Static variable to track total gadgets made\n",
    "    private String gadgetName;  // Instance variable to store the name of the gadget\n",
    "    public static List<Gadget> gadgetsList = new ArrayList<>();  // Static list to track all gadgets\n",
    "\n",
    "    // Constructor to set the gadget name and increment totalGadgets\n",
    "    public Gadget(String gadgetName) {\n",
    "        this.gadgetName = gadgetName;\n",
    "        totalGadgets++;  // Increment the total gadgets count\n",
    "        gadgetsList.add(this);  // Add this gadget to the static list\n",
    "    }\n",
    "\n",
    "    // Override toString method to provide a meaningful representation of the gadget\n",
    "    @Override\n",
    "    public String toString() {\n",
    "        return \"Gadget{name='\" + gadgetName + \"'}\";\n",
    "    }\n",
    "}\n",
    "\n",
    "public class Main {\n",
    "    public static void main(String[] args) {\n",
    "        // Create three gadgets\n",
    "        Gadget g1 = new Gadget(\"Freeze Ray\");\n",
    "        Gadget g2 = new Gadget(\"Banana Blaster\");\n",
    "        Gadget g3 = new Gadget(\"Lipstick Taser\");\n",
    "\n",
    "        // Print the total number of gadgets\n",
    "        System.out.println(\"Total gadgets made: \" + Gadget.totalGadgets);\n",
    "        System.out.println(\"Gadget List: \" + Gadget.gadgetsList); // Print the list of gadgets\n",
    "    }\n",
    "}\n",
    "\n",
    "Main.main(null);"
   ]
  },
  {
   "cell_type": "markdown",
   "metadata": {},
   "source": [
    "Popcorn hack:\n",
    "Dr. Nefario and Gru need to calculate the cost of their equipment to remain under the budget for this year! Add a second parameter to the Gadget constructor to include cost for Gadget instances, and make a static method to calculate the price of all gadgets that have been made so far."
   ]
  },
  {
   "cell_type": "code",
   "execution_count": 39,
   "metadata": {
    "vscode": {
     "languageId": "java"
    }
   },
   "outputs": [
    {
     "name": "stdout",
     "output_type": "stream",
     "text": [
      "Total gadgets made: 3\n",
      "Gadget List: [Gadget{name='Freeze Ray', cost=1000.0}, Gadget{name='Banana Blaster', cost=500.0}, Gadget{name='Lipstick Taser', cost=750.0}]\n",
      "Total cost of all gadgets: $2250.0\n"
     ]
    }
   ],
   "source": [
    "import java.util.ArrayList;\n",
    "import java.util.List;\n",
    "\n",
    "public class Gadget {\n",
    "    public static int totalGadgets = 0;  // Static variable to track total gadgets made\n",
    "    private String gadgetName;  // Instance variable to store the name of the gadget\n",
    "    private double cost;  // Instance variable to store the cost of the gadget\n",
    "    public static List<Gadget> gadgetsList = new ArrayList<>();  // Static list to track all gadgets\n",
    "\n",
    "    // Constructor to set the gadget name, cost, and increment totalGadgets\n",
    "    public Gadget(String gadgetName, double cost) {\n",
    "        this.gadgetName = gadgetName;\n",
    "        this.cost = cost;\n",
    "        totalGadgets++;  // Increment the total gadgets count\n",
    "        gadgetsList.add(this);  // Add this gadget to the static list\n",
    "    }\n",
    "\n",
    "    // Override toString method to provide a meaningful representation of the gadget\n",
    "    @Override\n",
    "    public String toString() {\n",
    "        return \"Gadget{name='\" + gadgetName + \"', cost=\" + cost + \"}\";\n",
    "    }\n",
    "\n",
    "    // Static method to calculate the total cost of all gadgets\n",
    "    public static double calculateTotalCost() {\n",
    "        double totalCost = 0;\n",
    "        for (Gadget gadget : gadgetsList) {\n",
    "            totalCost += gadget.cost;\n",
    "        }\n",
    "        return totalCost;\n",
    "    }\n",
    "}\n",
    "\n",
    " // Create three gadgets with cost\n",
    " Gadget g1 = new Gadget(\"Freeze Ray\", 1000);\n",
    " Gadget g2 = new Gadget(\"Banana Blaster\", 500);\n",
    " Gadget g3 = new Gadget(\"Lipstick Taser\", 750);\n",
    "\n",
    " // Print the total number of gadgets\n",
    " System.out.println(\"Total gadgets made: \" + Gadget.totalGadgets);\n",
    " System.out.println(\"Gadget List: \" + Gadget.gadgetsList); // Print the list of gadgets\n",
    "\n",
    " // Calculate the total cost of all gadgets\n",
    " System.out.println(\"Total cost of all gadgets: $\" + Gadget.calculateTotalCost());"
   ]
  },
  {
   "cell_type": "markdown",
   "metadata": {},
   "source": [
    "Popcorn Hack\n",
    "Figure out why the happiness level and the energy level is not showing up the way we want it to. First one to do so will get a high five from Trevor Huang."
   ]
  },
  {
   "cell_type": "code",
   "execution_count": 47,
   "metadata": {
    "vscode": {
     "languageId": "java"
    }
   },
   "outputs": [
    {
     "name": "stdout",
     "output_type": "stream",
     "text": [
      "Happiness Level: 10\n",
      "Energy Level: 2\n"
     ]
    }
   ],
   "source": [
    "public class MinionMood {\n",
    "    private int happinessLevel;\n",
    "    private int energyLevel;\n",
    "    private int bananas;\n",
    "    private int tasks;\n",
    "\n",
    "    public MinionMood(int bananas, int tasks) {\n",
    "        this.happinessLevel = 2 * bananas;  // Use 'this' to refer to the instance variable\n",
    "        this.energyLevel = tasks;  // Use 'this' to refer to the instance variable\n",
    "    }\n",
    "\n",
    "    public String toString() {\n",
    "        return \"Happiness Level: \" + happinessLevel + \"\\nEnergy Level: \" + energyLevel;\n",
    "    }\n",
    "}\n",
    "\n",
    "MinionMood bob = new MinionMood(5, 2);\n",
    "System.out.println(bob);"
   ]
  },
  {
   "cell_type": "markdown",
   "metadata": {},
   "source": [
    "Popcorn Hacks\n",
    "The Minions are preparing for a big event where the tallest and fastest minion will get to assist Gru on his next mission! You’ve been called in as the official “Minion Trainer” to help compare the minions. The goal is to see which minion is more prepared for the mission."
   ]
  },
  {
   "cell_type": "code",
   "execution_count": 51,
   "metadata": {
    "vscode": {
     "languageId": "java"
    }
   },
   "outputs": [
    {
     "name": "stdout",
     "output_type": "stream",
     "text": [
      "minion 1 speed: fast\n"
     ]
    },
    {
     "name": "stdout",
     "output_type": "stream",
     "text": [
      "Is minion1 taller than minion2? true\n",
      "Is minion1 still taller than minion2? false\n"
     ]
    }
   ],
   "source": [
    "public class Minion {\n",
    "    private String speed;\n",
    "    private int height;\n",
    "\n",
    "    // Correct constructor without a return type\n",
    "    public Minion(String speed, int height) {\n",
    "        this.speed = speed;\n",
    "        this.height = height;\n",
    "    }\n",
    "\n",
    "    public void setHeight(int height) {\n",
    "        this.height = height;  \n",
    "    }\n",
    "\n",
    "    public String getSpeed() {\n",
    "        return this.speed;  \n",
    "    }\n",
    "\n",
    "    public boolean isTallerThan(Minion otherMinion) {\n",
    "        return this.height > otherMinion.height;  \n",
    "    }\n",
    "}\n",
    "\n",
    "Minion minion1 = new Minion(\"fast\", 43);\n",
    "Minion minion2 = new Minion(\"medium\", 28);\n",
    "\n",
    "System.out.println(\"minion 1 speed: \" + minion1.getSpeed());\n",
    "System.out.println(\"Is minion1 taller than minion2? \" + minion1.isTallerThan(minion2));\n",
    "\n",
    "minion2.setHeight(50);\n",
    "System.out.println(\"Is minion1 still taller than minion2? \" + minion1.isTallerThan(minion2));"
   ]
  },
  {
   "cell_type": "markdown",
   "metadata": {},
   "source": [
    "Hack 1\n",
    "Gru has just recently stopped El Macho from destroying the world. But now, Gru needs to separate the leftover purple minions and the yellow minions so that he can cure the infected minions. He then needs to organize the minions in terms of recovery time and usefulness. To do this, Gru needs you to make a minion class with the instance variables color, name, energy levels, gadgets, hair, height"
   ]
  },
  {
   "cell_type": "code",
   "execution_count": 53,
   "metadata": {
    "vscode": {
     "languageId": "java"
    }
   },
   "outputs": [
    {
     "name": "stdout",
     "output_type": "stream",
     "text": [
      "Minion: Dave\n",
      "Color: Purple\n",
      "Energy Level: 5\n",
      "Hair: Bald\n",
      "Height: 105\n",
      "Gadgets: [Freeze Ray, Lipstick Taser]\n",
      "Minion: Kevin\n",
      "Color: Yellow\n",
      "Energy Level: 3\n",
      "Hair: Short\n",
      "Height: 95\n",
      "Gadgets: [Banana Blaster]\n",
      "Minion that needs to be cured: Dave\n"
     ]
    }
   ],
   "source": [
    "import java.util.ArrayList;\n",
    "import java.util.List;\n",
    "\n",
    "public class Minion {\n",
    "    private String color;\n",
    "    private String name;\n",
    "    private int energyLevel;\n",
    "    private List<String> gadgets;\n",
    "    private String hair;\n",
    "    private int height;\n",
    "\n",
    "    public Minion(String color, String name, int energyLevel, String hair, int height) {\n",
    "        this.color = color;\n",
    "        this.name = name;\n",
    "        this.energyLevel = energyLevel;\n",
    "        this.gadgets = new ArrayList<>();\n",
    "        this.hair = hair;\n",
    "        this.height = height;\n",
    "    }\n",
    "\n",
    "    public void addGadget(String gadget) {\n",
    "        gadgets.add(gadget);\n",
    "    }\n",
    "\n",
    "    public void describeMinion() {\n",
    "        System.out.println(\"Minion: \" + name);\n",
    "        System.out.println(\"Color: \" + color);\n",
    "        System.out.println(\"Energy Level: \" + energyLevel);\n",
    "        System.out.println(\"Hair: \" + hair);\n",
    "        System.out.println(\"Height: \" + height);\n",
    "        System.out.println(\"Gadgets: \" + gadgets);\n",
    "    }\n",
    "\n",
    "    // Getter method for name\n",
    "    public String getName() {\n",
    "        return name;\n",
    "    }\n",
    "}\n",
    "\n",
    "Minion minion1 = new Minion(\"Purple\", \"Dave\", 5, \"Bald\", 105);\n",
    "minion1.addGadget(\"Freeze Ray\");\n",
    "minion1.addGadget(\"Lipstick Taser\");\n",
    "minion1.describeMinion();\n",
    "\n",
    "Minion minion2 = new Minion(\"Yellow\", \"Kevin\", 3, \"Short\", 95);\n",
    "minion2.addGadget(\"Banana Blaster\");\n",
    "minion2.describeMinion();\n",
    "\n",
    "// Print out the minion that needs to be cured\n",
    "System.out.println(\"Minion that needs to be cured: \" + minion1.getName());"
   ]
  },
  {
   "cell_type": "markdown",
   "metadata": {},
   "source": [
    "Hack 2\n",
    "Now Gru needs you to make a default constructor for all the NPC minions. Assign each default minion a default color,name,energy level, gadget, hair, and height."
   ]
  },
  {
   "cell_type": "code",
   "execution_count": 55,
   "metadata": {
    "vscode": {
     "languageId": "java"
    }
   },
   "outputs": [],
   "source": [
    "class Minions\n",
    "{\n",
    "    private String color;\n",
    "    private String name;\n",
    "    private int energyLevel;\n",
    "    private List<String> gadgets;\n",
    "    private String hair;\n",
    "    private int height;\n",
    "\n",
    "    // Default Constructor\n",
    "    public Minions()\n",
    "    {\n",
    "        color = \"Yellow\";\n",
    "        name = \"Bob\";\n",
    "        energyLevel = 3;\n",
    "        gadgets = new ArrayList<>();\n",
    "        hair = \"Bald\";\n",
    "        height = 105;\n",
    "    }\n",
    "\n",
    "    public void addGadget(String gadget) {\n",
    "        gadgets.add(gadget);\n",
    "    }\n",
    "\n",
    "    public void describeMinion() {\n",
    "        System.out.println(\"Minion: \" + name);\n",
    "        System.out.println(\"Color: \" + color);\n",
    "        System.out.println(\"Energy Level: \" + energyLevel);\n",
    "        System.out.println(\"Hair: \" + hair);\n",
    "        System.out.println(\"Height: \" + height);\n",
    "        System.out.println(\"Gadgets: \" + gadgets);\n",
    "    }\n",
    "\n",
    "    // Getter method for name\n",
    "    public String getName() {\n",
    "        return name;\n",
    "    }\n",
    "}\n"
   ]
  },
  {
   "cell_type": "markdown",
   "metadata": {},
   "source": [
    "Hack 3\n",
    "Now please make a parameterized constructor to create the main-character minions easily."
   ]
  },
  {
   "cell_type": "code",
   "execution_count": 59,
   "metadata": {
    "vscode": {
     "languageId": "java"
    }
   },
   "outputs": [
    {
     "name": "stdout",
     "output_type": "stream",
     "text": [
      "Bob\n",
      "Kevin\n",
      "Stuart\n",
      "Dave\n"
     ]
    }
   ],
   "source": [
    "class Parameterized {\n",
    "    private String name;\n",
    "    private int height;\n",
    "\n",
    "    // Parameterized Constructor\n",
    "    public Parameterized(String n, int h) {\n",
    "        name = n;\n",
    "        height = h;\n",
    "    }\n",
    "\n",
    "    // Getter method for name\n",
    "    public String getName() {\n",
    "        return name;\n",
    "    }\n",
    "}\n",
    "\n",
    "Parameterized p = new Parameterized(\"Bob\", 105);\n",
    "Parameterized p1 = new Parameterized(\"Kevin\", 95);\n",
    "Parameterized p2 = new Parameterized(\"Stuart\", 100);\n",
    "Parameterized p3 = new Parameterized(\"Dave\", 110);\n",
    "\n",
    "// Print out the names of all the minions\n",
    "System.out.println(p.getName());\n",
    "System.out.println(p1.getName());\n",
    "System.out.println(p2.getName());\n",
    "System.out.println(p3.getName());"
   ]
  },
  {
   "cell_type": "markdown",
   "metadata": {},
   "source": [
    "Hack 4\n",
    "Create three minions and print out their values(color, name, energy levels, gadgets, hair, height)"
   ]
  },
  {
   "cell_type": "code",
   "execution_count": 61,
   "metadata": {
    "vscode": {
     "languageId": "java"
    }
   },
   "outputs": [
    {
     "name": "stdout",
     "output_type": "stream",
     "text": [
      "Minion that needs to be cured: Bob\n"
     ]
    }
   ],
   "source": [
    "import java.util.ArrayList;\n",
    "import java.util.List;\n",
    "\n",
    "class Minions {\n",
    "    private String color;\n",
    "    private String name;\n",
    "    private int energyLevel;\n",
    "    private List<String> gadgets;\n",
    "    private String hair;\n",
    "    private int height;\n",
    "\n",
    "    // Default Constructor\n",
    "    public Minions() {\n",
    "        color = \"Yellow\";\n",
    "        name = \"Bob\";\n",
    "        energyLevel = 3;\n",
    "        gadgets = new ArrayList<>();\n",
    "        hair = \"Bald\";\n",
    "        height = 105;\n",
    "    }\n",
    "\n",
    "    public void addGadget(String gadget) {\n",
    "        gadgets.add(gadget);\n",
    "    }\n",
    "\n",
    "    // Getter method for name\n",
    "    public String getName() {\n",
    "        return name;\n",
    "    }\n",
    "}\n",
    "\n",
    "Minions minion = new Minions();\n",
    "minion.addGadget(\"Freeze Ray\");\n",
    "minion.addGadget(\"Lipstick Taser\");\n",
    "\n",
    "// Print out the minion that needs to be cured\n",
    "System.out.println(\"Minion that needs to be cured: \" + minion.getName());"
   ]
  },
  {
   "cell_type": "markdown",
   "metadata": {},
   "source": [
    "Hack 5\n",
    "Gru wants to make sure his workers are not overworked as per OSHA. So, Gru wants you to print out the average energy levels of all his Minions. (Hint: you should use static variables)"
   ]
  },
  {
   "cell_type": "code",
   "execution_count": 62,
   "metadata": {
    "vscode": {
     "languageId": "java"
    }
   },
   "outputs": [
    {
     "name": "stdout",
     "output_type": "stream",
     "text": [
      "Energy Level: 3\n"
     ]
    }
   ],
   "source": [
    "class EnergyLevels\n",
    "{\n",
    "    private int energyLevel;\n",
    "\n",
    "    // Default Constructor\n",
    "    public EnergyLevels()\n",
    "    {\n",
    "        energyLevel = 3;\n",
    "    }\n",
    "\n",
    "    // Getter method for energyLevel\n",
    "    public int getEnergyLevel()\n",
    "    {\n",
    "        return energyLevel;\n",
    "    }\n",
    "}\n",
    "\n",
    "EnergyLevels e = new EnergyLevels();\n",
    "System.out.println(\"Energy Level: \" + e.getEnergyLevel());\n"
   ]
  },
  {
   "cell_type": "markdown",
   "metadata": {},
   "source": [
    "For 0.90+\n",
    "Dr. Nefario is trying to assign a recovery time for each minion! Minions who were purple and got cured are very tired, and so are a lot of minions with low energy levels. Create a simple algorithm to calculate how long each minion needs to recover based on their color and energy levels."
   ]
  },
  {
   "cell_type": "code",
   "execution_count": 63,
   "metadata": {
    "vscode": {
     "languageId": "java"
    }
   },
   "outputs": [
    {
     "name": "stdout",
     "output_type": "stream",
     "text": [
      "Minion: Dave\n",
      "Color: Purple\n",
      "Energy Level: 2\n",
      "Hair: Bald\n",
      "Height: 105\n",
      "Gadgets: [Freeze Ray, Lipstick Taser]\n",
      "Recovery Time: 20 days\n",
      "Minion: Kevin\n",
      "Color: Yellow\n",
      "Energy Level: 4\n",
      "Hair: Short\n",
      "Height: 95\n",
      "Gadgets: [Banana Blaster]\n",
      "Recovery Time: 5 days\n",
      "Minion: Stuart\n",
      "Color: Yellow\n",
      "Energy Level: 1\n",
      "Hair: Spiky\n",
      "Height: 100\n",
      "Gadgets: [Fart Gun]\n",
      "Recovery Time: 10 days\n"
     ]
    }
   ],
   "source": [
    "import java.util.ArrayList;\n",
    "import java.util.List;\n",
    "\n",
    "class Minion {\n",
    "    private String color;\n",
    "    private String name;\n",
    "    private int energyLevel;\n",
    "    private List<String> gadgets;\n",
    "    private String hair;\n",
    "    private int height;\n",
    "    private int recoveryTime;\n",
    "\n",
    "    // Default Constructor\n",
    "    public Minion(String color, String name, int energyLevel, String hair, int height) {\n",
    "        this.color = color;\n",
    "        this.name = name;\n",
    "        this.energyLevel = energyLevel;\n",
    "        this.gadgets = new ArrayList<>();\n",
    "        this.hair = hair;\n",
    "        this.height = height;\n",
    "        this.recoveryTime = calculateRecoveryTime();\n",
    "    }\n",
    "\n",
    "    public void addGadget(String gadget) {\n",
    "        gadgets.add(gadget);\n",
    "    }\n",
    "\n",
    "    // Getter method for name\n",
    "    public String getName() {\n",
    "        return name;\n",
    "    }\n",
    "\n",
    "    // Method to calculate recovery time\n",
    "    private int calculateRecoveryTime() {\n",
    "        int baseRecoveryTime = 5; // Base recovery time in days\n",
    "        if (color.equalsIgnoreCase(\"Purple\")) {\n",
    "            baseRecoveryTime += 10; // Additional recovery time for purple minions\n",
    "        }\n",
    "        if (energyLevel < 3) {\n",
    "            baseRecoveryTime += 5; // Additional recovery time for low energy levels\n",
    "        }\n",
    "        return baseRecoveryTime;\n",
    "    }\n",
    "\n",
    "    // Getter method for recovery time\n",
    "    public int getRecoveryTime() {\n",
    "        return recoveryTime;\n",
    "    }\n",
    "\n",
    "    public void describeMinion() {\n",
    "        System.out.println(\"Minion: \" + name);\n",
    "        System.out.println(\"Color: \" + color);\n",
    "        System.out.println(\"Energy Level: \" + energyLevel);\n",
    "        System.out.println(\"Hair: \" + hair);\n",
    "        System.out.println(\"Height: \" + height);\n",
    "        System.out.println(\"Gadgets: \" + gadgets);\n",
    "        System.out.println(\"Recovery Time: \" + recoveryTime + \" days\");\n",
    "    }\n",
    "}\n",
    "\n",
    "Minion minion1 = new Minion(\"Purple\", \"Dave\", 2, \"Bald\", 105);\n",
    "minion1.addGadget(\"Freeze Ray\");\n",
    "minion1.addGadget(\"Lipstick Taser\");\n",
    "\n",
    "Minion minion2 = new Minion(\"Yellow\", \"Kevin\", 4, \"Short\", 95);\n",
    "minion2.addGadget(\"Banana Blaster\");\n",
    "\n",
    "Minion minion3 = new Minion(\"Yellow\", \"Stuart\", 1, \"Spiky\", 100);\n",
    "minion3.addGadget(\"Fart Gun\");\n",
    "\n",
    "// Describe minions and print their recovery time\n",
    "minion1.describeMinion();\n",
    "minion2.describeMinion();\n",
    "minion3.describeMinion();"
   ]
  }
 ],
 "metadata": {
  "kernelspec": {
   "display_name": "Java",
   "language": "java",
   "name": "java"
  },
  "language_info": {
   "codemirror_mode": "java",
   "file_extension": ".jshell",
   "mimetype": "text/x-java-source",
   "name": "Java",
   "pygments_lexer": "java",
   "version": "17.0.6+10-LTS"
  }
 },
 "nbformat": 4,
 "nbformat_minor": 2
}
